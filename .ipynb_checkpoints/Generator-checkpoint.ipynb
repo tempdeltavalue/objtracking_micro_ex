{
 "cells": [
  {
   "cell_type": "code",
   "execution_count": 11,
   "metadata": {},
   "outputs": [],
   "source": [
    "import keras\n",
    "import random\n",
    "\n",
    "class Generator(keras.utils.Sequence):\n",
    "    def __init__(self, images, labels):\n",
    "        self.images = images\n",
    "        self.labels = labels\n",
    "        self.batch_size = 10\n",
    "        \n",
    "    def __len__(self):\n",
    "        return 10\n",
    "\n",
    "    def __getitem__(self, idx):\n",
    "        seq_len = 3\n",
    "        \n",
    "        batch_images = np.empty((self.batch_size, seq_len, IMAGE_HEIGHT, IMAGE_WIDTH, 3))\n",
    "        batch_labels = np.empty((self.batch_size, seq_len, 4))\n",
    "\n",
    "        for index in range(self.batch_size):\n",
    "            rand_start_index = random.randint(0, len(images) - seq_len)\n",
    "            batch_images[index] = self.images[rand_start_index : rand_start_index + seq_len]\n",
    "            batch_labels[index] = self.labels[rand_start_index : rand_start_index + seq_len]\n",
    "\n",
    "        return batch_images, batch_labels"
   ]
  },
  {
   "cell_type": "code",
   "execution_count": null,
   "metadata": {},
   "outputs": [],
   "source": []
  }
 ],
 "metadata": {
  "kernelspec": {
   "display_name": "Python 3",
   "language": "python",
   "name": "python3"
  },
  "language_info": {
   "codemirror_mode": {
    "name": "ipython",
    "version": 3
   },
   "file_extension": ".py",
   "mimetype": "text/x-python",
   "name": "python",
   "nbconvert_exporter": "python",
   "pygments_lexer": "ipython3",
   "version": "3.7.1"
  }
 },
 "nbformat": 4,
 "nbformat_minor": 2
}
